{
  "nbformat": 4,
  "nbformat_minor": 0,
  "metadata": {
    "colab": {
      "provenance": [],
      "authorship_tag": "ABX9TyM24d5u+YwBCY4QbeUgedIh",
      "include_colab_link": true
    },
    "kernelspec": {
      "name": "python3",
      "display_name": "Python 3"
    },
    "language_info": {
      "name": "python"
    }
  },
  "cells": [
    {
      "cell_type": "markdown",
      "metadata": {
        "id": "view-in-github",
        "colab_type": "text"
      },
      "source": [
        "<a href=\"https://colab.research.google.com/github/Pam-Pam29/Probability-Distributions-Bayesian-Probability-and-Gradient-Descent-Implementation-Group_19/blob/main/Probability_Distributions%2C_Bayesian_Probability%2C_and_Gradient_Descent_Implementation_Group_19.ipynb\" target=\"_parent\"><img src=\"https://colab.research.google.com/assets/colab-badge.svg\" alt=\"Open In Colab\"/></a>"
      ]
    },
    {
      "cell_type": "markdown",
      "source": [
        "**What is the Poisson Distribution?**\n",
        "\n",
        "The Poisson distribution is a discrete probability distribution that models the number of events occurring in a fixed interval of time or space, given that these events occur with a known constant mean rate and independently of the time since the last event.\n",
        "\n",
        "**Key Formula:**\n",
        "\n",
        "P(X = k) = (λ^k × e^(-λ)) / k!\n",
        "\n",
        "Where:\n",
        "\n",
        "P(X = k) = probability of exactly k events occurring\n",
        "\n",
        "λ (lambda) = average rate of occurrence (mean)\n",
        "\n",
        "e = Euler's number (≈ 2.71828)\n",
        "\n",
        "k = actual number of events (0, 1, 2, 3, ...)\n",
        "\n",
        "k! = factorial of k\n",
        "\n",
        "\n",
        "**When to Use Poisson Distribution**\n",
        "\n",
        "Use Poisson distribution when:\n",
        "\n",
        "Counting rare events in a fixed interval\n",
        "\n",
        "Events occur independently\n",
        "\n",
        "The average rate is constant\n",
        "\n",
        "**Examples of appropriate scenarios:**\n",
        "\n",
        "1. Number of emails received per hour\n",
        "\n",
        "2. Number of customers arriving at a store per minute\n",
        "\n",
        "3. Number of defects in a manufactured product\n",
        "\n",
        "4. Number of accidents on a highway per day\n",
        "\n",
        "5. Number of phone calls to a call center per hour\n",
        "\n",
        "6. Number of earthquakes in a region per year\n",
        "\n",
        "\n",
        "**How to Use Poisson Distribution**\n",
        "\n",
        "Identify λ: Determine the average rate of occurrence\n",
        "\n",
        "Define the interval: Specify the time/space period\n",
        "\n",
        "Apply the formula: Calculate probabilities for different values of k\n",
        "\n",
        "Interpret results: Understand what the probabilities mean in context"
      ],
      "metadata": {
        "id": "VbV7KVKC5YxX"
      }
    },
    {
      "cell_type": "markdown",
      "source": [],
      "metadata": {
        "id": "8vzOIjtq5e0C"
      }
    },
    {
      "cell_type": "markdown",
      "source": [],
      "metadata": {
        "id": "2MUlYjjR5hi3"
      }
    }
  ]
}