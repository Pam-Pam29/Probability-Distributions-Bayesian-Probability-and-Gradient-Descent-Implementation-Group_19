{
  "nbformat": 4,
  "nbformat_minor": 0,
  "metadata": {
    "colab": {
      "provenance": [],
      "authorship_tag": "ABX9TyMh+xFsBPlFozJbK6iVavtI",
      "include_colab_link": true
    },
    "kernelspec": {
      "name": "python3",
      "display_name": "Python 3"
    },
    "language_info": {
      "name": "python"
    }
  },
  "cells": [
    {
      "cell_type": "markdown",
      "metadata": {
        "id": "view-in-github",
        "colab_type": "text"
      },
      "source": [
        "<a href=\"https://colab.research.google.com/github/Pam-Pam29/Probability-Distributions-Bayesian-Probability-and-Gradient-Descent-Implementation-Group_19/blob/main/Probability_Distributions%2C_Bayesian_Probability%2C_and_Gradient_Descent_Implementation_Group_19.ipynb\" target=\"_parent\"><img src=\"https://colab.research.google.com/assets/colab-badge.svg\" alt=\"Open In Colab\"/></a>"
      ]
    },
    {
      "cell_type": "markdown",
      "source": [
        "**What is the Poisson Distribution?**\n",
        "\n",
        "The Poisson distribution is a discrete probability distribution that models the number of events occurring in a fixed interval of time or space, given that these events occur with a known constant mean rate and independently of the time since the last event.\n",
        "\n",
        "*Think of it like counting*:\n",
        "\n",
        "How many phone calls you get per hour\n",
        "\n",
        "How many cars pass by per minute\n",
        "\n",
        "How many defects appear in products\n",
        "\n",
        "**Key Formula:**\n",
        "\n",
        "P(X = k) = (λ^k × e^(-λ)) / k!\n",
        "\n",
        "Where:\n",
        "\n",
        "P(X = k) = probability of exactly k events occurring\n",
        "\n",
        "λ (lambda) = average rate of occurrence (mean)\n",
        "\n",
        "e = Euler's number (≈ 2.71828)\n",
        "\n",
        "k = actual number of events (0, 1, 2, 3, ...)\n",
        "\n",
        "k! = factorial of k\n",
        "\n",
        "\n",
        "**When to Use Poisson Distribution**\n",
        "\n",
        "1. You're counting rare events that happen randomly\n",
        "\n",
        "2. Events don't affect each other (one event doesn't make another more likely)\n",
        "\n",
        "3. The average rate stays the same\n",
        "\n",
        "4. Only one event can happen at exactly the same moment\n",
        "\n",
        "\n",
        "**How to Use Poisson Distribution**\n",
        "\n",
        "Identify λ: Determine the average rate of occurrence\n",
        "\n",
        "Define the interval: Specify the time/space period\n",
        "\n",
        "Apply the formula: Calculate probabilities for different values of k\n",
        "\n",
        "Interpret results: Understand what the probabilities mean in context"
      ],
      "metadata": {
        "id": "VbV7KVKC5YxX"
      }
    },
    {
      "cell_type": "markdown",
      "source": [
        "Problem Scenario\n",
        "\n",
        "A university instructor monitors student participation during online class sessions. Over a recent recorded lecture lasting about 1 hour and 43 minutes, 12 unique students actively participated in the chat by asking questions or making comments.\n",
        "\n",
        "Based on this observation, the instructor estimates that, on average, **about 7 student** messages occur per hour during the class.\n",
        "\n",
        "Now, for the upcoming 1-hour session, the instructor wonders:\n",
        "\n",
        "What is the probability that exactly 20 students will participate in the chat during the next 1-hour class?"
      ],
      "metadata": {
        "id": "8vzOIjtq5e0C"
      }
    },
    {
      "cell_type": "code",
      "source": [],
      "metadata": {
        "id": "ddIkw--7kjQT"
      },
      "execution_count": null,
      "outputs": []
    },
    {
      "cell_type": "markdown",
      "source": [
        "\n",
        "**Part 2: Bayesian Probability**\n",
        "\n",
        "*What is Bayesian Probability?*\n",
        "\n",
        "Bayesian probability is a method of statistical inference that updates the probability of a hypothesis as more evidence becomes available. It's based on Bayes' theorem and represents a way of thinking about probability that incorporates prior knowledge.\n",
        "You start with a hunch, find clues, then update your theory.\n",
        "\n",
        "\n",
        "**The Formula**\n",
        "\n",
        "P(A|B) = P(B|A) × P(A) / P(B)\n",
        "\n",
        "Where:\n",
        "\n",
        "P(A|B) = Posterior probability (probability of A given B)\n",
        "\n",
        "P(B|A) = Likelihood (probability of B given A)\n",
        "\n",
        "P(A) = Prior probability (initial belief about A)\n",
        "\n",
        "P(B) = Marginal probability (total probability of B)\n",
        "\n",
        "\n",
        "**Key Components Explained**\n",
        "\n",
        "Prior Probability P(A): Your initial belief before seeing new evidence\n",
        "\n",
        "Likelihood P(B|A): How likely the evidence is, given your hypothesis\n",
        "\n",
        "Posterior Probability P(A|B): Updated belief after considering the evidence\n",
        "\n",
        "Marginal Probability P(B): Total probability of observing the evidence\n",
        "\n",
        "**When to Use Bayesian Probability**\n",
        "\n",
        "Bayesian methods are particularly useful when:\n",
        "\n",
        "1. You have prior knowledge about the problem\n",
        "2. You want to update beliefs as new data arrives\n",
        "3. Dealing with uncertainty and incomplete information\n",
        "4. Sequential decision making is involved\n",
        "5. Small sample sizes are available\n"
      ],
      "metadata": {
        "id": "2MUlYjjR5hi3"
      }
    },
    {
      "cell_type": "markdown",
      "source": [
        "QUESTION\n",
        "\n",
        "A patient visits a doctor for a routine check-up. The patient is a long-term smoker, and the doctor is concerned about the possibility of lung cancer. Medical studies show that long-term smoking significantly increases the risk of developing lung cancer. Based on this, the doctor estimates that even before any medical tests are conducted, there is an 8% prior probability that this patient has lung cancer.\n",
        "\n",
        "The doctor then orders a CT scan, which returns a positive result for signs of lung cancer. The CT scan has the following characteristics:\n",
        " If the patient has lung cancer, the scan detects it 90% of the time. If the patient does not have lung cancer, the scan incorrectly shows a positive result 5% of the time.\n",
        "\n",
        "What is the probability that this patient has lung cancer after each positive test result."
      ],
      "metadata": {
        "id": "yIGu9UTnbqFO"
      }
    },
    {
      "cell_type": "code",
      "source": [
        "def compute_posterior(prior, likelihood, false_positive):\n",
        "    prior_complement = 1 - prior\n",
        "    evidence = (likelihood * prior) + (false_positive * prior_complement)\n",
        "    posterior = (likelihood * prior) / evidence\n",
        "    return posterior\n",
        "\n",
        "if __name__ == \"__main__\":\n",
        "    PRIOR = 0.08\n",
        "    LIKELIHOOD = 0.90\n",
        "    FALSE_POSITIVE = 0.05\n",
        "\n",
        "    print(f\"Initial prior probability: {PRIOR*100:.2f}%\\n\")\n",
        "    print(\"Test 1:\")\n",
        "    print(f\"  Prior probability: {PRIOR*100:.2f}%\")\n",
        "    print(f\"  Likelihood (True Positive Rate): {LIKELIHOOD*100:.2f}%\")\n",
        "    print(f\"  False Positive Rate: {FALSE_POSITIVE*100:.2f}%\")\n",
        "\n",
        "    posterior_after_test1 = compute_posterior(PRIOR, LIKELIHOOD, FALSE_POSITIVE)\n",
        "    print(f\"  Posterior probability after test 1: {posterior_after_test1*100:.2f}%\")\n",
        "\n",
        "\n"
      ],
      "metadata": {
        "colab": {
          "base_uri": "https://localhost:8080/"
        },
        "id": "wkTKKNzfgroi",
        "outputId": "7a605495-c372-4b6e-8146-8cacbab9f1b5"
      },
      "execution_count": 4,
      "outputs": [
        {
          "output_type": "stream",
          "name": "stdout",
          "text": [
            "Initial prior probability: 8.00%\n",
            "\n",
            "Test 1:\n",
            "  Prior probability: 8.00%\n",
            "  Likelihood (True Positive Rate): 90.00%\n",
            "  False Positive Rate: 5.00%\n",
            "  Posterior probability after test 1: 61.02%\n"
          ]
        }
      ]
    }
  ]
}