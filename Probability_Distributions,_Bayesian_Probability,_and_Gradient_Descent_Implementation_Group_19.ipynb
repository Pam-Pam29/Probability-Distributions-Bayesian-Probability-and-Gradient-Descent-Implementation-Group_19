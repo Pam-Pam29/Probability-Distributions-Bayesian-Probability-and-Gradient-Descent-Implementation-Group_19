{
  "nbformat": 4,
  "nbformat_minor": 0,
  "metadata": {
    "colab": {
      "provenance": [],
      "authorship_tag": "ABX9TyNE+RU9s+PIdKncKa0f31PI",
      "include_colab_link": true
    },
    "kernelspec": {
      "name": "python3",
      "display_name": "Python 3"
    },
    "language_info": {
      "name": "python"
    }
  },
  "cells": [
    {
      "cell_type": "markdown",
      "metadata": {
        "id": "view-in-github",
        "colab_type": "text"
      },
      "source": [
        "<a href=\"https://colab.research.google.com/github/Pam-Pam29/Probability-Distributions-Bayesian-Probability-and-Gradient-Descent-Implementation-Group_19/blob/main/Probability_Distributions%2C_Bayesian_Probability%2C_and_Gradient_Descent_Implementation_Group_19.ipynb\" target=\"_parent\"><img src=\"https://colab.research.google.com/assets/colab-badge.svg\" alt=\"Open In Colab\"/></a>"
      ]
    },
    {
      "cell_type": "code",
      "execution_count": null,
      "metadata": {
        "id": "Ln23SHEP45rL"
      },
      "outputs": [],
      "source": []
    }
  ]
}